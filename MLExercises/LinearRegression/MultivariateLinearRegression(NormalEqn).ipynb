{
 "cells": [
  {
   "cell_type": "code",
   "execution_count": 1,
   "metadata": {},
   "outputs": [],
   "source": [
    "import numpy as np\n",
    "import pandas as pd\n",
    "import matplotlib.pyplot as plt"
   ]
  },
  {
   "cell_type": "code",
   "execution_count": 2,
   "metadata": {},
   "outputs": [],
   "source": [
    "data = pd.read_csv(\"ex1data2.txt\",header=None)"
   ]
  },
  {
   "cell_type": "code",
   "execution_count": 3,
   "metadata": {},
   "outputs": [],
   "source": [
    "def computeCost(X,y,theta):\n",
    "    \n",
    "    m = len(y)\n",
    "    h = X.dot(theta)\n",
    "    square_error = (h - y) **2\n",
    "    return 1/(2*m) * np.sum(square_error)"
   ]
  },
  {
   "cell_type": "code",
   "execution_count": 4,
   "metadata": {},
   "outputs": [
    {
     "name": "stdout",
     "output_type": "stream",
     "text": [
      "(47, 2)\n",
      "(47, 3)\n",
      "[[399900]\n",
      " [329900]\n",
      " [369000]\n",
      " [232000]\n",
      " [539900]\n",
      " [299900]\n",
      " [314900]\n",
      " [198999]\n",
      " [212000]\n",
      " [242500]\n",
      " [239999]\n",
      " [347000]\n",
      " [329999]\n",
      " [699900]\n",
      " [259900]\n",
      " [449900]\n",
      " [299900]\n",
      " [199900]\n",
      " [499998]\n",
      " [599000]\n",
      " [252900]\n",
      " [255000]\n",
      " [242900]\n",
      " [259900]\n",
      " [573900]\n",
      " [249900]\n",
      " [464500]\n",
      " [469000]\n",
      " [475000]\n",
      " [299900]\n",
      " [349900]\n",
      " [169900]\n",
      " [314900]\n",
      " [579900]\n",
      " [285900]\n",
      " [249900]\n",
      " [229900]\n",
      " [345000]\n",
      " [549000]\n",
      " [287000]\n",
      " [368500]\n",
      " [329900]\n",
      " [314000]\n",
      " [299000]\n",
      " [179900]\n",
      " [299900]\n",
      " [239500]]\n"
     ]
    }
   ],
   "source": [
    "data_n=data.values                   #convert to array\n",
    "m=len(data_n[:,0])\n",
    " \n",
    "X=np.array(data_n[:,0])\n",
    "X=np.append(X.reshape(m,1),data_n[:,1].reshape(m,1),axis=1)\n",
    "\n",
    "print(X.shape)\n",
    "#X=np.append(np.ones((m,1)),data_n[:,0].reshape(m,1),axis=1)\n",
    "#X =featureNormalize(X)\n",
    "X=np.append(np.ones((m,1)),X.reshape(m,2),axis=1)\n",
    "print(X.shape)\n",
    "\n",
    "Y=data_n[:,2].reshape(m,1)\n",
    "\n",
    "theta=np.zeros((3,1))\n",
    "\n",
    "computeCost(X,Y,theta)\n",
    "print(Y)"
   ]
  },
  {
   "cell_type": "code",
   "execution_count": 5,
   "metadata": {},
   "outputs": [],
   "source": [
    "#Normal equation\n",
    "def normalEqn(X,y,theta):\n",
    "    x_transpose = np.transpose(X)   #calculating transpose\n",
    "    x_transpose_dot_x = x_transpose.dot(X)  # calculating dot product\n",
    "    temp_1 = np.linalg.inv(x_transpose_dot_x) #calculating inverse\n",
    "    temp_2 = x_transpose.dot(y) \n",
    "    theta = temp_1.dot(temp_2)\n",
    "    return theta\n",
    "    "
   ]
  },
  {
   "cell_type": "code",
   "execution_count": 6,
   "metadata": {},
   "outputs": [
    {
     "name": "stdout",
     "output_type": "stream",
     "text": [
      "[[89597.9095428 ]\n",
      " [  139.21067402]\n",
      " [-8738.01911233]]\n",
      "h(x) = 89597.91+139.21x1+-8738.02x2\n"
     ]
    }
   ],
   "source": [
    "theta = normalEqn(X,Y,theta)\n",
    "print(theta)\n",
    "print(\"h(x) = \"+ str(round(theta[0,0],2))+\"+\"+str(round(theta[1,0],2))+\"x1\"+\"+\"+str(round(theta[2,0],2))+\"x2\")"
   ]
  },
  {
   "cell_type": "code",
   "execution_count": 8,
   "metadata": {},
   "outputs": [
    {
     "name": "stdout",
     "output_type": "stream",
     "text": [
      "Predicted price for population size of 35,000 =  [293081.46433489]\n"
     ]
    }
   ],
   "source": [
    "#Predict values for population sizes of 35,000 and 70,000\n",
    "array = np.array([1, 1650,3])\n",
    "prediction = theta.transpose().dot(array)\n",
    "print(\"Predicted price for population size of 35,000 = \",prediction)\n"
   ]
  },
  {
   "cell_type": "code",
   "execution_count": null,
   "metadata": {},
   "outputs": [],
   "source": []
  }
 ],
 "metadata": {
  "kernelspec": {
   "display_name": "Python 3",
   "language": "python",
   "name": "python3"
  },
  "language_info": {
   "codemirror_mode": {
    "name": "ipython",
    "version": 3
   },
   "file_extension": ".py",
   "mimetype": "text/x-python",
   "name": "python",
   "nbconvert_exporter": "python",
   "pygments_lexer": "ipython3",
   "version": "3.7.1"
  }
 },
 "nbformat": 4,
 "nbformat_minor": 2
}
